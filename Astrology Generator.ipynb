{
 "cells": [
  {
   "cell_type": "code",
   "execution_count": 1,
   "metadata": {},
   "outputs": [],
   "source": [
    "import tracery\n",
    "import random\n",
    "from tracery.modifiers import base_english\n",
    "\n",
    "from pycorpora import archetypes\n",
    "from pycorpora import divination\n",
    "from pycorpora import mythology\n",
    "from pycorpora import corporations\n",
    "from pycorpora import science\n",
    "from pycorpora import plants\n",
    "from pycorpora import objects\n",
    "\n",
    "archetype_qualities = []\n",
    "archetype_names = []\n",
    "monster_names = []\n",
    "creatures = []\n",
    "first_date = []\n",
    "last_date = []\n",
    "companies = []\n",
    "industries = []\n",
    "elements = []\n",
    "cannabis = []\n",
    "stuff = []\n",
    "\n",
    "for hero in archetypes.character['characters']:\n",
    "#    print(hero)\n",
    "    archetype_qualities.append(', '.join(hero['qualities']))\n",
    "    \n",
    "for hero in archetypes.character['characters']:\n",
    "#    print(hero)\n",
    "    archetype_names.append(hero['name'])\n",
    "    \n",
    "for monster in mythology.greek_monsters['greek_monsters']:\n",
    "#    print(monster)\n",
    "    monster_names.append(monster)    \n",
    "    \n",
    "for monster in mythology.monsters['names']:\n",
    "    #print(monster)\n",
    "    creatures.append(monster)  \n",
    "    \n",
    "for plant in plants.cannabis['cannabis']:\n",
    "    #print(plant)\n",
    "    cannabis.append(plant)    \n",
    "    \n",
    "for i in range(1,15):    \n",
    " #   print(i)\n",
    "    first_date.append(str(i))\n",
    "        \n",
    "for i in range(15,32):    \n",
    "#    print(i)\n",
    "    last_date.append(str(i))\n",
    "    \n",
    "for item in corporations.fortune500['companies']:\n",
    "    companies.append(item)\n",
    "\n",
    "for item in corporations.industries['industries']:\n",
    "    industries.append(item)  \n",
    "\n",
    "for item in objects.objects['objects']:\n",
    "    stuff.append(item)      \n",
    "    \n",
    "for i in range(118):\n",
    "    symbol = science.elements['elements'][i]['name']\n",
    "    elements.append(symbol)\n",
    "    "
   ]
  },
  {
   "cell_type": "code",
   "execution_count": 14,
   "metadata": {},
   "outputs": [
    {
     "name": "stdout",
     "output_type": "stream",
     "text": [
      "Astrology Generator\n",
      " --------- \n",
      "Condition: You were born between Decemeber 13 - 22   \n",
      "Sign: Manticore the Bureaucrat -- \n",
      "Symbol: Frost giant -- \n",
      "Element: Earth -- \n",
      "Qualities: fair, unbiased, patient \n"
     ]
    }
   ],
   "source": [
    "rules = {\n",
    "    \"qualities\":archetype_qualities,\n",
    "    \"gloss\":archetype_names,\n",
    "    \"monsters\":monster_names,\n",
    "    \"character\":creatures,\n",
    "    \"stuff\": stuff,\n",
    "    \"weekday\":[\"Monday\", \"Tuesday\", \"Wednesday\", \"Thursday\", \"Friday\", \"Saturday\", \"Sunday\"],\n",
    "    \"month\":[\"January\",\"February\",\"March\",\"April\",\"May\",\"June\",\"July\",\"August\",\"September\",\"October\",\"November\",\"Decemeber\"],\n",
    "    \"first_date\": first_date,\n",
    "    \"last_date\": last_date,\n",
    "    \"companies\": companies,\n",
    "    \"industries\": industries,\n",
    "    \"elements\":elements,\n",
    "    \"cannabis\":cannabis,\n",
    "    \"old_elements\":[\"Fire\", \"Earth\", \"Air\", \"Water\", \"Metal\", \"Aether\"],\n",
    "    \"condition\":[\"You were born on a #weekday#\", \"You were born between #month# #first_date# - #last_date#\"],\n",
    "    \n",
    "    \"origin\":\"\"\"Astrology Generator\\n --------- \\nCondition: #condition#   \\nSign: #monsters# the #gloss.capitalize# -- \\nSymbol: #character.capitalize# -- \\nElement: #old_elements# -- \\nQualities: #qualities# \"\"\"\n",
    "}\n",
    "\n",
    "grammar = tracery.Grammar(rules)\n",
    "grammar.add_modifiers(base_english)\n",
    "print(grammar.flatten(\"#origin#\"))"
   ]
  },
  {
   "cell_type": "code",
   "execution_count": 39,
   "metadata": {},
   "outputs": [
    {
     "name": "stdout",
     "output_type": "stream",
     "text": [
      "{Vaguely Anti-Corporatists/Millenial Astrology} \n",
      " --------- \n",
      "Condition: You were born on a Friday   \n",
      "Sign: Harpy the Catalyst -- \n",
      "Symbol: A Money -- \n",
      "Qualities: brave, willing, determined -- \n",
      "Element: Samarium -- \n",
      "Power Cannabis Strain: Grape Krush -- \n",
      "Quest: Use Computer Games to sabotage Sealed Air Corporation\n"
     ]
    }
   ],
   "source": [
    "rules = {\n",
    "    \"qualities\":archetype_qualities,\n",
    "    \"gloss\":archetype_names,\n",
    "    \"monsters\":monster_names,\n",
    "    \"character\":creatures,\n",
    "    \"stuff\": stuff,\n",
    "    \"weekday\":[\"Monday\", \"Tuesday\", \"Wednesday\", \"Thursday\", \"Friday\", \"Saturday\", \"Sunday\"],\n",
    "    \"month\":[\"January\",\"February\",\"March\",\"April\",\"May\",\"June\",\"July\",\"August\",\"September\",\"October\",\"November\",\"Decemeber\"],\n",
    "    \"first_date\": first_date,\n",
    "    \"last_date\": last_date,\n",
    "    \"companies\": companies,\n",
    "    \"industries\": industries,\n",
    "    \"elements\":elements,\n",
    "    \"cannabis\":cannabis,\n",
    "    \"destructive\":[\"destroy\",\"dismantle\",\"smash\",\"ruin\", \"sabotage\",\"obliterate\"],\n",
    "    \"condition\":[\"You were born on a #weekday#\", \"You were born between #month# #first_date# - #last_date#\"],\n",
    "    \n",
    "    \"origin\":\"{Vaguely Anti-Corporatists/Millenial Astrology} \\n --------- \\nCondition: #condition#   \\nSign: #monsters# the #gloss.capitalize# -- \\nSymbol: #stuff.capitalize.a.capitalize# -- \\nQualities: #qualities# -- \\nElement: #elements# -- \\nPower Cannabis Strain: #cannabis# -- \\nQuest: Use #industries# to #destructive# #companies#\"\n",
    "}\n",
    "\n",
    "grammar = tracery.Grammar(rules)\n",
    "grammar.add_modifiers(base_english)\n",
    "print(grammar.flatten(\"#origin#\"))"
   ]
  },
  {
   "cell_type": "code",
   "execution_count": null,
   "metadata": {},
   "outputs": [],
   "source": []
  },
  {
   "cell_type": "code",
   "execution_count": null,
   "metadata": {},
   "outputs": [],
   "source": []
  }
 ],
 "metadata": {
  "kernelspec": {
   "display_name": "Python 3",
   "language": "python",
   "name": "python3"
  },
  "language_info": {
   "codemirror_mode": {
    "name": "ipython",
    "version": 3
   },
   "file_extension": ".py",
   "mimetype": "text/x-python",
   "name": "python",
   "nbconvert_exporter": "python",
   "pygments_lexer": "ipython3",
   "version": "3.6.5"
  }
 },
 "nbformat": 4,
 "nbformat_minor": 2
}
