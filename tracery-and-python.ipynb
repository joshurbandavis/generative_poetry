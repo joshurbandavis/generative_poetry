{
 "cells": [
  {
   "cell_type": "markdown",
   "metadata": {},
   "source": [
    "# Tracery and Python\n",
    "\n",
    "by [Allison Parrish](http://www.decontextualize.com/)\n",
    "\n",
    "This is a tutorial on how to use [Tracery](http://www.crystalcodepalace.com/tracery.html) in Python.\n",
    "Tracery is a computer language for random text generation originally developed\n",
    "by [Kate Compton](https://twitter.com/galaxykate).\n",
    "\n",
    "The easiest way to use Tracery in Python is to install [pytracery](https://github.com/aparrish/pytracery), my Python port of Kate's original code. You can install it on the command line with `pip`:\n",
    "\n",
    "    $ pip install tracery\n",
    "\n",
    "(You may need to type `sudo` in front of `pip`: `sudo pip install tracery`.) If you're running this in Jupyter Notebook, you can execute the cell below:"
   ]
  },
  {
   "cell_type": "code",
   "execution_count": 30,
   "metadata": {},
   "outputs": [
    {
     "name": "stdout",
     "output_type": "stream",
     "text": [
      "Requirement already satisfied: tracery in /usr/local/lib/python3.6/site-packages (0.1.1)\r\n"
     ]
    }
   ],
   "source": [
    "!pip install tracery"
   ]
  },
  {
   "cell_type": "markdown",
   "metadata": {},
   "source": [
    "Then you need to import the `tracery` library:"
   ]
  },
  {
   "cell_type": "code",
   "execution_count": 2,
   "metadata": {},
   "outputs": [],
   "source": [
    "import tracery"
   ]
  },
  {
   "cell_type": "markdown",
   "metadata": {},
   "source": [
    "You don't need Python to use Tracery! [Here's a version of this tutorial](http://air.decontextualize.com/tracery/) that you can use with any implementation of Tracery. I recommend Beau Gunderson's [Tracery writer](https://beaugunderson.com/tracery-writer/) as a kind of Tracery playground. You can also use Kate Compton's\n",
    "[Tracery tutorial](http://www.crystalcodepalace.com/traceryTut.html), which has a [visual editor](http://www.brightspiral.com/tracery/) or [Cheap Bots Done Quick](http://cheapbotsdonequick.com/), which has a built-in editor for writing Tracery grammars for Twitter bots with a minimum amount of fuss.\n",
    "\n",
    "You might be interested in reading [Nora Reed's explanation of how\n",
    "@nerdgarbagebot works](http://barrl.net/2801), which takes you through the\n",
    "process of ideating and implementing a Tracery grammar for a Twitter bot. (Nora\n",
    "Reed makes a lot of amazing bots with Tracery, including\n",
    "[@thinkpiecebot](https://twitter.com/thinkpiecebot).)"
   ]
  },
  {
   "cell_type": "markdown",
   "metadata": {},
   "source": [
    "## Rules and expansions\n",
    "\n",
    "A Tracery *grammar* is a series of rules that tell the computer how to put text\n",
    "together, piece by piece. Tracery grammars consist of a series of *rules* and\n",
    "*expansions*. The goal of writing a Tracery grammar is to write rules and\n",
    "expansions that, when followed by the computer, produce interesting (funny,\n",
    "insightful, poetic) text. The word for generating a text from a grammar is\n",
    "\"expand\"---we'll be talking a lot below about \"expanding\" the grammar into a\n",
    "text. (Hopefully the reasons for using this word will become clear!)\n",
    "\n",
    "In Python, Tracery rules and expansions are written as dictionaries, where the rules are keys and the expansions are values. Here's an example of a complete, but very boring, Tracery grammar:"
   ]
  },
  {
   "cell_type": "code",
   "execution_count": 3,
   "metadata": {},
   "outputs": [],
   "source": [
    "rules = {\n",
    "  \"origin\": \"Hello, world!\"\n",
    "}"
   ]
  },
  {
   "cell_type": "markdown",
   "metadata": {},
   "source": [
    "To generate text from this grammar, first create a Tracery `Grammar` object like so, passing the rules as the only parameter:"
   ]
  },
  {
   "cell_type": "code",
   "execution_count": 4,
   "metadata": {},
   "outputs": [],
   "source": [
    "grammar = tracery.Grammar(rules)"
   ]
  },
  {
   "cell_type": "markdown",
   "metadata": {},
   "source": [
    "Then call the `.flatten()` method of the `Grammar` object with `\"#origin#\"` as the only parameter. (I'll talk about what `#origin#` means in a second.)"
   ]
  },
  {
   "cell_type": "code",
   "execution_count": 5,
   "metadata": {},
   "outputs": [
    {
     "data": {
      "text/plain": [
       "'Hello, world!'"
      ]
     },
     "execution_count": 5,
     "metadata": {},
     "output_type": "execute_result"
    }
   ],
   "source": [
    "grammar.flatten(\"#origin#\")"
   ]
  },
  {
   "cell_type": "markdown",
   "metadata": {},
   "source": [
    "This grammar can produce only one text: `Hello, world!`. Not very interesting,\n",
    "but helpful for the moment to illustrate how a grammar is put together and how to make it produce some output.\n",
    "\n",
    "Here's a Tracery grammar with two rules, written again as a dictionary, where each rule and its expansion are key/value pairs:"
   ]
  },
  {
   "cell_type": "code",
   "execution_count": 6,
   "metadata": {},
   "outputs": [
    {
     "data": {
      "text/plain": [
       "'Hello, galaxy!'"
      ]
     },
     "execution_count": 6,
     "metadata": {},
     "output_type": "execute_result"
    }
   ],
   "source": [
    "rules = {\n",
    "  \"origin\": \"Hello, #noun#!\",\n",
    "  \"noun\": \"galaxy\"\n",
    "}\n",
    "grammar = tracery.Grammar(rules)\n",
    "grammar.flatten(\"#origin#\")"
   ]
  },
  {
   "cell_type": "markdown",
   "metadata": {},
   "source": [
    "This grammar, again, can only ever produce one text: `Hello, galaxy!` But it\n",
    "accomplishes it in a slightly more sophisticated way. Notice in the expansion\n",
    "for the `origin` rule the following text:\n",
    "\n",
    "    #noun#\n",
    "\n",
    "When the Tracery generator encounters text that looks like this---a word surrounded by\n",
    "`#` signs---it looks in the grammar for a rule with the same name as the word,\n",
    "and *replaces* the text with the expansion for that rule.\n",
    "\n",
    "Let's add a third rule to this grammar, just to see how it looks:"
   ]
  },
  {
   "cell_type": "code",
   "execution_count": 9,
   "metadata": {},
   "outputs": [
    {
     "data": {
      "text/plain": [
       "'Howdy, galaxy?'"
      ]
     },
     "execution_count": 9,
     "metadata": {},
     "output_type": "execute_result"
    }
   ],
   "source": [
    "rules = {\n",
    "  \"origin\": \"#greeting#, #noun##punctuation#\",\n",
    "  \"greeting\": \"Howdy\",\n",
    "  \"noun\": \"galaxy\",\n",
    "  \"punctuation\": \"?\"\n",
    "}\n",
    "grammar = tracery.Grammar(rules)\n",
    "grammar.flatten(\"#origin#\")"
   ]
  },
  {
   "cell_type": "markdown",
   "metadata": {},
   "source": [
    "> EXERCISE: Add another rule for the punctuation at the end of the sentence, so\n",
    "> that the grammar produces the text \"Howdy, galaxy?\"\n",
    "\n",
    "## Adding alternatives\n",
    "\n",
    "The examples above are really boring, because they can only ever produce one\n",
    "output. In order for a grammar to be able to produce different outputs, we need\n",
    "to make the expansions of our rules have *alternatives* for the computer to\n",
    "choose between. Rules with alternatives look like this:\n",
    "\n",
    "    \"rule\": [\"alternative one\", \"alternative two\", \"alternative three\"]\n",
    "\n",
    "That is: the value of the rule is a *list* of strings (instead of an individual string). When Tracery expands a rule whose value is a list, it will select one item from the list at random.\n",
    "\n",
    "Here's our \"Hello, world!\" grammar, now with multiple alternatives for what\n",
    "we're greeting:"
   ]
  },
  {
   "cell_type": "code",
   "execution_count": 10,
   "metadata": {},
   "outputs": [
    {
     "data": {
      "text/plain": [
       "'Howdy, universe!'"
      ]
     },
     "execution_count": 10,
     "metadata": {},
     "output_type": "execute_result"
    }
   ],
   "source": [
    "rules = {\n",
    "  \"origin\": \"#greeting#, #noun#!\",\n",
    "  \"greeting\": \"Howdy\",\n",
    "  \"noun\": [\"world\", \"solar system\", \"galaxy\", \"local cluster\", \"universe\"]\n",
    "}\n",
    "grammar = tracery.Grammar(rules)\n",
    "grammar.flatten(\"#origin#\")"
   ]
  },
  {
   "cell_type": "markdown",
   "metadata": {},
   "source": [
    "Run the cell over and over again and you'll see different outputs. (Sometimes\n",
    "it'll look like it isn't working, but that's just because the computer randomly\n",
    "selected the same alternative twice in a row. It can happen!)\n",
    "\n",
    "Let's make this \"Hello, world!\" example *even more interesting* by adding\n",
    "alternatives for the `greeting` rule:"
   ]
  },
  {
   "cell_type": "code",
   "execution_count": 11,
   "metadata": {},
   "outputs": [
    {
     "data": {
      "text/plain": [
       "'Hey, solar system!'"
      ]
     },
     "execution_count": 11,
     "metadata": {},
     "output_type": "execute_result"
    }
   ],
   "source": [
    "rules = {\n",
    "  \"origin\": \"#greeting#, #noun#!\",\n",
    "  \"greeting\": [\"Howdy\", \"Hello\", \"Greetings\", \"What's up\", \"Hey\", \"Hi\"],\n",
    "  \"noun\": [\"world\", \"solar system\", \"galaxy\", \"local cluster\", \"universe\"]\n",
    "}\n",
    "grammar = tracery.Grammar(rules)\n",
    "grammar.flatten(\"#origin#\")"
   ]
  },
  {
   "cell_type": "markdown",
   "metadata": {},
   "source": [
    "Sometimes for debugging purposes, it's nice to generate multiple outputs from the same grammar in one cell execution. To do this, `print()` the value of the `.flatten()` function in a `for` loop. (You don't have to re-create the `Grammar` object each time.)"
   ]
  },
  {
   "cell_type": "code",
   "execution_count": 12,
   "metadata": {},
   "outputs": [
    {
     "name": "stdout",
     "output_type": "stream",
     "text": [
      "Greetings, universe!\n",
      "Hey, world!\n",
      "What's up, galaxy!\n",
      "Greetings, solar system!\n",
      "Howdy, universe!\n"
     ]
    }
   ],
   "source": [
    "rules = {\n",
    "  \"origin\": \"#greeting#, #noun#!\",\n",
    "  \"greeting\": [\"Howdy\", \"Hello\", \"Greetings\", \"What's up\", \"Hey\", \"Hi\"],\n",
    "  \"noun\": [\"world\", \"solar system\", \"galaxy\", \"local cluster\", \"universe\"]\n",
    "}\n",
    "grammar = tracery.Grammar(rules)\n",
    "for i in range(5):\n",
    "    print(grammar.flatten(\"#origin#\"))"
   ]
  },
  {
   "cell_type": "markdown",
   "metadata": {},
   "source": [
    "Remember that in Python you can format dictionaries and lists with some flexibility. For example, your grammar might be a bit more readable if you write each option on a separate line:"
   ]
  },
  {
   "cell_type": "code",
   "execution_count": 13,
   "metadata": {},
   "outputs": [
    {
     "data": {
      "text/plain": [
       "'Hello, galaxy!'"
      ]
     },
     "execution_count": 13,
     "metadata": {},
     "output_type": "execute_result"
    }
   ],
   "source": [
    "rules = {\n",
    "  \"origin\": \"#greeting#, #noun#!\",\n",
    "  \"greeting\": [\n",
    "    \"Howdy\",\n",
    "    \"Hello\",\n",
    "    \"Greetings\",\n",
    "    \"What's up\",\n",
    "    \"Hey\",\n",
    "    \"Hi\"\n",
    "  ],\n",
    "  \"noun\": [\n",
    "    \"world\",\n",
    "    \"solar system\",\n",
    "    \"galaxy\",\n",
    "    \"local cluster\",\n",
    "    \"universe\"\n",
    "  ]\n",
    "}\n",
    "grammar = tracery.Grammar(rules)\n",
    "grammar.flatten(\"#origin#\")"
   ]
  },
  {
   "cell_type": "markdown",
   "metadata": {},
   "source": [
    "You don't always have to write the expansions as string literals and list literals. You can use a variable with a list assigned to it, for example—this is especially helpful if you have a long list of things that you plan to use in multiple grammars, or if you want to get the list of things from another source (e.g., a text file)."
   ]
  },
  {
   "cell_type": "markdown",
   "metadata": {},
   "source": [
    "## Modifiers\n",
    "\n",
    "Let's make a more sophisticated grammar that produces sentences in the format\n",
    "\"Dammit Jim, I'm a X, not a Y!\" popularized by the ground-breaking science\n",
    "fiction program, *Star Trek*. I happen to have a list of professions, which I'm going to put into a variable here. (I got this list from Darius Kazemi's [Corpora Project](https://github.com/dariusk/corpora/tree/master/data)—an excellent place to find lists of things. And they're already preformatted in a way that makes it easy to cut-and-paste them into your Tracery grammars.)"
   ]
  },
  {
   "cell_type": "code",
   "execution_count": 16,
   "metadata": {},
   "outputs": [],
   "source": [
    "professions = [\n",
    "    \"accountant\",\n",
    "    \"actor\",\n",
    "    \"archeologist\",\n",
    "    \"astronomer\",\n",
    "    \"audiologist\",\n",
    "    \"bartender\",\n",
    "    \"curator\",\n",
    "    \"detective\",\n",
    "    \"economist\",\n",
    "    \"editor\",\n",
    "    \"engineer\",\n",
    "    \"epidemiologist\",\n",
    "    \"farmer\",\n",
    "    \"flight attendant\",\n",
    "    \"forest fire prevention specialist\",\n",
    "    \"graphic designer\",\n",
    "    \"hydrologist\",\n",
    "    \"librarian\",\n",
    "    \"mathematician\",\n",
    "    \"middle school teacher\",\n",
    "    \"nutritionist\",\n",
    "    \"painter\",\n",
    "    \"rancher\",\n",
    "    \"referee\",\n",
    "    \"reporter\",\n",
    "    \"sailor\",\n",
    "    \"sociologist\",\n",
    "    \"stonemason\",\n",
    "    \"surgeon\",\n",
    "    \"tailor\",\n",
    "    \"taxi driver\",\n",
    "    \"teacher\",\n",
    "    \"therapist\",\n",
    "    \"tour guide\",\n",
    "    \"umpire\",\n",
    "    \"undertaker\",\n",
    "    \"urban planner\",\n",
    "    \"veterinarian\",\n",
    "    \"web developer\",\n",
    "    \"welder\",\n",
    "    \"writer\",\n",
    "    \"zoologist\"\n",
    "]"
   ]
  },
  {
   "cell_type": "markdown",
   "metadata": {},
   "source": [
    "The grammar for generating our Star Trek phrase might look like this:"
   ]
  },
  {
   "cell_type": "code",
   "execution_count": 25,
   "metadata": {},
   "outputs": [
    {
     "data": {
      "text/plain": [
       "\"eureka, Jim! I'm a referee, not a economist!\""
      ]
     },
     "execution_count": 25,
     "metadata": {},
     "output_type": "execute_result"
    }
   ],
   "source": [
    "rules = {\n",
    "  \"origin\": \"#interjection#, #name#! I'm a #profession#, not a #profession#!\",\n",
    "  \"interjection\": [\"alas\", \"congratulations\", \"eureka\", \"fiddlesticks\",\n",
    "    \"good grief\", \"hallelujah\", \"oops\", \"rats\", \"thanks\", \"whoa\", \"yes\"],\n",
    "  \"name\": [\"Jim\", \"John\", \"Tom\", \"Steve\", \"Kevin\", \"Gary\", \"George\", \"Larry\"],\n",
    "  \"profession\": professions\n",
    "}\n",
    "grammar = tracery.Grammar(rules)\n",
    "grammar.flatten(\"#origin#\")"
   ]
  },
  {
   "cell_type": "markdown",
   "metadata": {},
   "source": [
    "This is pretty good, but there are problems. The first is that we typed in all\n",
    "of the interjections in lower case, but they're supposed to have the first\n",
    "letter capitalized (since they're at the beginning of the sentence). The second\n",
    "problem is that the grammar occasionally produces something like\n",
    "\n",
    "    yes, George! I'm a economist, not a zoologist!\n",
    "\n",
    "\"A economist\" isn't right. It should be \"a*n* economist.\" English indefinite\n",
    "articles are tricky that way!\n",
    "\n",
    "There are several ways to solve these problems. We could just change all of our\n",
    "interjections to be capitalized, and add the appropriate article to the\n",
    "beginning of each profession. But (1) this will be time consuming and (2) it\n",
    "means that we won't ever be able to *re-use* those same rules with the\n",
    "unmodified versions of those rules. What to do?\n",
    "\n",
    "Thankfully, Tracery comes equipped with a series of *modifiers* that take the expansion of a rule and apply a transformation to it. The modifiers are included with pytracery, but they're in a separate module, so you need to import them in their own import statement:"
   ]
  },
  {
   "cell_type": "code",
   "execution_count": 26,
   "metadata": {},
   "outputs": [],
   "source": [
    "from tracery.modifiers import base_english"
   ]
  },
  {
   "cell_type": "markdown",
   "metadata": {},
   "source": [
    "And then you have to explicitly \"add\" them to the `Grammar` object after you create it, like so:\n",
    "\n",
    "    grammar = tracery.Grammar(rules)\n",
    "    grammar.add_modifiers(base_english)\n",
    "\n",
    "The two modifiers we're going to use are `.a`, which adds the appropriate indefinite article before the expansion of a rule, and `.capitalize`, which capitalizes the first letter of the expansion.\n",
    "\n",
    "Use the modifers by adding `.a` inside the `#` signs, *right after* the name of the rule. For example, change:\n",
    "\n",
    "    #interjection#\n",
    "\n",
    "to\n",
    "\n",
    "    #interjection.capitalize#\n",
    "\n",
    "Here's our \"Dammit Jim\" generator with the modifiers in place:"
   ]
  },
  {
   "cell_type": "code",
   "execution_count": 27,
   "metadata": {},
   "outputs": [
    {
     "data": {
      "text/plain": [
       "\"Alas, Gary! I'm an engineer, not a taxi driver!\""
      ]
     },
     "execution_count": 27,
     "metadata": {},
     "output_type": "execute_result"
    }
   ],
   "source": [
    "rules = {\n",
    "  \"origin\": \"#interjection.capitalize#, #name#! I'm #profession.a#, not #profession.a#!\",\n",
    "  \"interjection\": [\"alas\", \"congratulations\", \"eureka\", \"fiddlesticks\",\n",
    "    \"good grief\", \"hallelujah\", \"oops\", \"rats\", \"thanks\", \"whoa\", \"yes\"],\n",
    "  \"name\": [\"Jim\", \"John\", \"Tom\", \"Steve\", \"Kevin\", \"Gary\", \"George\", \"Larry\"],\n",
    "  \"profession\": professions\n",
    "}\n",
    "grammar = tracery.Grammar(rules)\n",
    "grammar.add_modifiers(base_english)\n",
    "grammar.flatten(\"#origin#\")"
   ]
  },
  {
   "cell_type": "markdown",
   "metadata": {},
   "source": [
    "Nice! Another modifier you can use is `.s`, which turns the text in the expansion into its plural version. Using this, we can modify the above example to be a *Star Wars* meme instead of a *Star Trek* one:"
   ]
  },
  {
   "cell_type": "code",
   "execution_count": 29,
   "metadata": {},
   "outputs": [
    {
     "data": {
      "text/plain": [
       "\"These aren't the archeologists we're looking for.\""
      ]
     },
     "execution_count": 29,
     "metadata": {},
     "output_type": "execute_result"
    }
   ],
   "source": [
    "rules = {\n",
    "  \"origin\": \"These aren't the #profession.s# we're looking for.\",\n",
    "  \"profession\": professions\n",
    "}\n",
    "grammar = tracery.Grammar(rules)\n",
    "grammar.add_modifiers(base_english)\n",
    "grammar.flatten(\"#origin#\")"
   ]
  },
  {
   "cell_type": "markdown",
   "metadata": {},
   "source": [
    "## The `origin` rule\n",
    "\n",
    "By convention, the \"starting\" rule of Tracery grammars is called `origin`. A lot of tools that use Tracery grammars follow this convention, and for ease of interoperability it's probably best if you do too. But you can actually use any name you want, as long as you use that name in the call to `.flatten()`. For example, we could rewrite the above example like so:"
   ]
  },
  {
   "cell_type": "code",
   "execution_count": 31,
   "metadata": {},
   "outputs": [
    {
     "data": {
      "text/plain": [
       "\"These aren't the reporters we're looking for.\""
      ]
     },
     "execution_count": 31,
     "metadata": {},
     "output_type": "execute_result"
    }
   ],
   "source": [
    "rules = {\n",
    "  \"origin\": \"These aren't the #profession.s# we're looking for.\",\n",
    "  \"profession\": professions\n",
    "}\n",
    "grammar = tracery.Grammar(rules)\n",
    "grammar.add_modifiers(base_english)\n",
    "grammar.flatten(\"#origin#\")"
   ]
  },
  {
   "cell_type": "markdown",
   "metadata": {},
   "source": [
    "Like any other rule, the \"starting\" rule can have multiple options. We could use this to, for example, create a grammar that outputs Star Wars memes half the time and Star Trek memes the other half:"
   ]
  },
  {
   "cell_type": "code",
   "execution_count": 32,
   "metadata": {},
   "outputs": [
    {
     "name": "stdout",
     "output_type": "stream",
     "text": [
      "Yes, Steve! I'm a stonemason, not a hydrologist!\n",
      "Whoa, Kevin! I'm a librarian, not a therapist!\n",
      "These aren't the hydrologists we're looking for.\n",
      "Thanks, Tom! I'm a rancher, not a welder!\n",
      "Whoa, Larry! I'm an astronomer, not a detective!\n",
      "These aren't the accountants we're looking for.\n",
      "These aren't the editors we're looking for.\n",
      "These aren't the engineers we're looking for.\n",
      "These aren't the surgeons we're looking for.\n",
      "Rats, Larry! I'm a taxi driver, not an archeologist!\n"
     ]
    }
   ],
   "source": [
    "rules = {\n",
    "  \"origin\": [\"#interjection.capitalize#, #name#! I'm #profession.a#, not #profession.a#!\",\n",
    "             \"These aren't the #profession.s# we're looking for.\"],\n",
    "  \"interjection\": [\"alas\", \"congratulations\", \"eureka\", \"fiddlesticks\",\n",
    "    \"good grief\", \"hallelujah\", \"oops\", \"rats\", \"thanks\", \"whoa\", \"yes\"],\n",
    "  \"name\": [\"Jim\", \"John\", \"Tom\", \"Steve\", \"Kevin\", \"Gary\", \"George\", \"Larry\"],\n",
    "  \"profession\": professions\n",
    "}\n",
    "grammar = tracery.Grammar(rules)\n",
    "grammar.add_modifiers(base_english)\n",
    "for i in range(10):\n",
    "    print(grammar.flatten(\"#origin#\"))"
   ]
  },
  {
   "cell_type": "markdown",
   "metadata": {},
   "source": [
    "## Rules within rules within rules\n",
    "\n",
    "The grammars we've written together so far have replacement syntax (`#somethinglikethis#`) only in the expansions for the `origin` rule. But you can include that syntax in any expansion you want! This is a powerful tool for building sophisticated grammars that are built up from reusable parts. For example, this tiny model of English reuses the `noun` and `verb` rules in multiple places, thereby preventing repetition and increasing expressiveness."
   ]
  },
  {
   "cell_type": "code",
   "execution_count": 35,
   "metadata": {},
   "outputs": [
    {
     "name": "stdout",
     "output_type": "stream",
     "text": [
      "A dichotomy fails a suburb.\n",
      "The suburb stops.\n",
      "The amoeba that fails ripens.\n",
      "The amoeba that ripens worries.\n",
      "The seagull turns.\n",
      "The corsage that unfurls gathers.\n",
      "The restaurant opens.\n",
      "A restaurant fractures the amoeba.\n",
      "An amoeba unfurls.\n",
      "The trombone worries the amoeba against the corsage that bends the suburb over the amoeba.\n"
     ]
    }
   ],
   "source": [
    "rules = {\n",
    "    \"origin\": \"#nounphrase.capitalize# #verbphrase#.\",\n",
    "    \"nounphrase\": [\"the #noun#\", \"the #noun#\", \"#noun.a#\", \"#noun.a#\", \"the #noun# that #verbphrase#\",\n",
    "                   \"the #noun# #prep# #nounphrase#\"],\n",
    "    \"verbphrase\": [\"#verb#\", \"#verb# #nounphrase#\", \"#verb# #prep# #nounphrase#\"],\n",
    "    \"noun\": [\"amoeba\", \"dichotomy\", \"seagull\", \"trombone\", \"corsage\", \"restaurant\", \"suburb\"],\n",
    "    \"verb\": [\"awakens\", \"bends\", \"burns\", \"closes\", \"expands\", \"fails\", \"fractures\", \"gathers\",\n",
    "             \"melts\", \"opens\", \"ripens\", \"scatters\", \"stops\", \"sways\", \"turns\", \"unfurls\", \"worries\"],\n",
    "#note: ergative verbs (like the ones above) do not need an object and thus can be used transivitely and intransitively\n",
    "    \"prep\": [\"in\", \"on\", \"over\", \"against\"]\n",
    "}\n",
    "grammar = tracery.Grammar(rules)\n",
    "grammar.add_modifiers(base_english)\n",
    "for i in range(10):\n",
    "    print(grammar.flatten(\"#origin#\"))"
   ]
  },
  {
   "cell_type": "markdown",
   "metadata": {},
   "source": [
    "## Next steps\n",
    "\n",
    "Congratulations, you now know the basics of writing a Tracery grammar and how to use them in Python.\n",
    "\n",
    "Tracery has a number of features that we didn't go into here, including the\n",
    "ability to *save* the output of a rule to be re-used later in the same\n",
    "expansion. See [Kate Compton's tutorial](http://cheapbotsdonequick.com/)\n",
    "for more information. You might be interested in [these advanced text generators](http://www.brightspiral.com/) that Kate Compton made with Tracery.\n",
    "\n",
    "If you're a Javascript programmer and you want to incorporate Tracery into your\n",
    "own projects, [the source code is available\n",
    "here](https://github.com/galaxykate/tracery) (also available as [a Node module](https://github.com/v21/tracery))."
   ]
  },
  {
   "cell_type": "code",
   "execution_count": 36,
   "metadata": {},
   "outputs": [
    {
     "name": "stdout",
     "output_type": "stream",
     "text": [
      "/usr/local/lib/python3.6/site-packages/pip/_internal/commands/install.py:243: UserWarning: Disabling all use of wheels due to the use of --build-options / --global-options / --install-options.\n",
      "  cmdoptions.check_install_build_global(options)\n",
      "Collecting pycorpora\n",
      "  Downloading https://files.pythonhosted.org/packages/64/84/6d57f3956cbfd247e44b7b686fd7a431bb6e2e7c75e72a38c8e3672374e3/pycorpora-0.1.2.tar.gz\n",
      "Skipping bdist_wheel for pycorpora, due to binaries being disabled for it.\n",
      "Installing collected packages: pycorpora\n",
      "  Running setup.py install for pycorpora ... \u001b[?25ldone\n",
      "\u001b[?25hSuccessfully installed pycorpora-0.1.2\n"
     ]
    }
   ],
   "source": [
    "!pip install pycorpora --install-option=\"--corpora-zip-url=https://github.com/dariusk/corpora/archive/master.zip\"\n"
   ]
  },
  {
   "cell_type": "markdown",
   "metadata": {},
   "source": [
    "The following is a brief tutorial for the Pycorpora project which may be useful"
   ]
  },
  {
   "cell_type": "code",
   "execution_count": 72,
   "metadata": {},
   "outputs": [
    {
     "data": {
      "text/plain": [
       "['Aries',\n",
       " 'Taurus',\n",
       " 'Gemini',\n",
       " 'Cancer',\n",
       " 'Leo',\n",
       " 'Virgo',\n",
       " 'Libra',\n",
       " 'Scorpio',\n",
       " 'Sagittarius',\n",
       " 'Capricorn',\n",
       " 'Aquarius',\n",
       " 'Pisces']"
      ]
     },
     "execution_count": 72,
     "metadata": {},
     "output_type": "execute_result"
    }
   ],
   "source": [
    "# just the keys\n",
    "list(divination.zodiac[\"western_zodiac\"].keys())"
   ]
  },
  {
   "cell_type": "code",
   "execution_count": 74,
   "metadata": {},
   "outputs": [
    {
     "ename": "AttributeError",
     "evalue": "'list' object has no attribute 'keys'",
     "output_type": "error",
     "traceback": [
      "\u001b[0;31m---------------------------------------------------------------------------\u001b[0m",
      "\u001b[0;31mAttributeError\u001b[0m                            Traceback (most recent call last)",
      "\u001b[0;32m<ipython-input-74-1385f1b0c290>\u001b[0m in \u001b[0;36m<module>\u001b[0;34m\u001b[0m\n\u001b[1;32m      1\u001b[0m \u001b[0;32mfrom\u001b[0m \u001b[0mpycorpora\u001b[0m \u001b[0;32mimport\u001b[0m \u001b[0marchetypes\u001b[0m\u001b[0;34m\u001b[0m\u001b[0m\n\u001b[1;32m      2\u001b[0m \u001b[0;34m\u001b[0m\u001b[0m\n\u001b[0;32m----> 3\u001b[0;31m \u001b[0mlist\u001b[0m\u001b[0;34m(\u001b[0m\u001b[0marchetypes\u001b[0m\u001b[0;34m.\u001b[0m\u001b[0mcharacter\u001b[0m\u001b[0;34m[\u001b[0m\u001b[0;34m\"characters\"\u001b[0m\u001b[0;34m]\u001b[0m\u001b[0;34m.\u001b[0m\u001b[0mkeys\u001b[0m\u001b[0;34m(\u001b[0m\u001b[0;34m)\u001b[0m\u001b[0;34m)\u001b[0m\u001b[0;34m\u001b[0m\u001b[0m\n\u001b[0m",
      "\u001b[0;31mAttributeError\u001b[0m: 'list' object has no attribute 'keys'"
     ]
    }
   ],
   "source": []
  },
  {
   "cell_type": "code",
   "execution_count": 60,
   "metadata": {},
   "outputs": [],
   "source": [
    "sign = random.choice(list(divination.zodiac[\"western_zodiac\"].keys()))"
   ]
  },
  {
   "cell_type": "code",
   "execution_count": 61,
   "metadata": {},
   "outputs": [
    {
     "data": {
      "text/plain": [
       "'Cancer'"
      ]
     },
     "execution_count": 61,
     "metadata": {},
     "output_type": "execute_result"
    }
   ],
   "source": [
    "sign"
   ]
  },
  {
   "cell_type": "code",
   "execution_count": 75,
   "metadata": {},
   "outputs": [
    {
     "data": {
      "text/plain": [
       "'The Fish'"
      ]
     },
     "execution_count": 75,
     "metadata": {},
     "output_type": "execute_result"
    }
   ],
   "source": [
    "divination.zodiac[\"western_zodiac\"][sign]['gloss']"
   ]
  },
  {
   "cell_type": "code",
   "execution_count": 81,
   "metadata": {},
   "outputs": [
    {
     "data": {
      "text/plain": [
       "['brave', 'willing', 'determined']"
      ]
     },
     "execution_count": 81,
     "metadata": {},
     "output_type": "execute_result"
    }
   ],
   "source": [
    "from pycorpora import archetypes\n",
    "archetypes.character['characters'][0]['qualities']"
   ]
  },
  {
   "cell_type": "code",
   "execution_count": 84,
   "metadata": {},
   "outputs": [
    {
     "data": {
      "text/plain": [
       "dict_keys(['name', 'synonyms', 'qualities', 'nature'])"
      ]
     },
     "execution_count": 84,
     "metadata": {},
     "output_type": "execute_result"
    }
   ],
   "source": [
    "archetypes.character['characters'][0].keys()"
   ]
  },
  {
   "cell_type": "code",
   "execution_count": 91,
   "metadata": {},
   "outputs": [
    {
     "data": {
      "text/plain": [
       "dict_keys(['description', 'characters'])"
      ]
     },
     "execution_count": 91,
     "metadata": {},
     "output_type": "execute_result"
    }
   ],
   "source": [
    "archetypes.character.keys()"
   ]
  },
  {
   "cell_type": "code",
   "execution_count": 104,
   "metadata": {},
   "outputs": [
    {
     "data": {
      "text/plain": [
       "[{'name': 'hero',\n",
       "  'synonyms': ['protagonist'],\n",
       "  'qualities': ['brave', 'willing', 'determined'],\n",
       "  'nature': 'good'},\n",
       " {'name': 'anti-hero',\n",
       "  'synonyms': ['antagonist'],\n",
       "  'qualities': ['unwilling', 'reluctant'],\n",
       "  'nature': 'neutral'},\n",
       " {'name': 'analyst',\n",
       "  'synonyms': ['reasoner'],\n",
       "  'qualities': ['rational', 'logical'],\n",
       "  'nature': 'neutral'},\n",
       " {'name': 'bureaucrat',\n",
       "  'synonyms': ['lawyer', 'politician', 'manager'],\n",
       "  'qualities': ['obedient'],\n",
       "  'nature': 'neutral'},\n",
       " {'name': 'caretaker',\n",
       "  'synonyms': ['healer', 'doctor', 'nurse'],\n",
       "  'qualities': ['caring', 'healing'],\n",
       "  'nature': 'good'},\n",
       " {'name': 'catalyst',\n",
       "  'synonyms': ['doer'],\n",
       "  'qualities': ['dynamic', 'changeable', 'mercurial', 'unpredictable'],\n",
       "  'nature': 'neutral'},\n",
       " {'name': 'coward',\n",
       "  'synonyms': ['wimp'],\n",
       "  'qualities': ['weak', 'craven', 'fearful'],\n",
       "  'nature': 'evil'},\n",
       " {'name': 'curmudgeon',\n",
       "  'synonyms': ['grump'],\n",
       "  'qualities': ['opinionated', 'cranky', 'resolute'],\n",
       "  'nature': 'evil'},\n",
       " {'name': 'mentor',\n",
       "  'synonyms': ['elder', 'teacher', 'professor', 'parent'],\n",
       "  'qualities': ['educating', 'guiding', 'helpful'],\n",
       "  'nature': 'neutral'},\n",
       " {'name': 'shaman',\n",
       "  'synonyms': ['guide', 'medium', 'soothsayer'],\n",
       "  'qualities': ['mystical', 'mysterious'],\n",
       "  'nature': 'neutral'},\n",
       " {'name': 'herald',\n",
       "  'synonyms': ['hierophant', 'expositor'],\n",
       "  'qualities': ['expositional', 'revealing'],\n",
       "  'nature': 'neutral'},\n",
       " {'name': 'trickster',\n",
       "  'synonyms': ['shapeshifter', 'magician', 'devil'],\n",
       "  'qualities': ['confusing',\n",
       "   'egocentric',\n",
       "   'misleading',\n",
       "   'clever',\n",
       "   'manipulative'],\n",
       "  'nature': 'evil'},\n",
       " {'name': 'fool',\n",
       "  'synonyms': ['joker', 'jester', 'idiot'],\n",
       "  'qualities': ['thoughtless', 'silly', 'amusing'],\n",
       "  'nature': 'evil'},\n",
       " {'name': 'child',\n",
       "  'synonyms': ['innocent', 'virgin', 'youth', 'ingenue'],\n",
       "  'qualities': ['innocent',\n",
       "   'naive',\n",
       "   'simple',\n",
       "   'straightforward',\n",
       "   'credulous',\n",
       "   'endearing'],\n",
       "  'nature': 'good'},\n",
       " {'name': 'self',\n",
       "  'synonyms': ['mirror-image'],\n",
       "  'qualities': ['reflecting'],\n",
       "  'nature': 'good'},\n",
       " {'name': 'hermit',\n",
       "  'synonyms': ['loner', 'introvert'],\n",
       "  'qualities': ['quiet', 'secretive'],\n",
       "  'nature': 'neutral'},\n",
       " {'name': 'wanderer',\n",
       "  'synonyms': ['traveler', 'explorer'],\n",
       "  'qualities': ['curious'],\n",
       "  'nature': 'neutral'},\n",
       " {'name': 'hunter',\n",
       "  'synonyms': ['seeker', 'tracker', 'detective', 'inspector'],\n",
       "  'qualities': ['curious', 'dedicated', 'driven'],\n",
       "  'nature': 'neutral'},\n",
       " {'name': 'judge',\n",
       "  'synonyms': ['justice',\n",
       "   'magistrate',\n",
       "   'arbiter',\n",
       "   'sheriff',\n",
       "   'referee',\n",
       "   'examiner'],\n",
       "  'qualities': ['fair', 'unbiased', 'patient'],\n",
       "  'nature': 'neutral'},\n",
       " {'name': 'weaver',\n",
       "  'synonyms': ['creator', 'spinner', 'crafter'],\n",
       "  'qualities': ['thorough', 'crafty'],\n",
       "  'nature': 'neutral'},\n",
       " {'name': 'death',\n",
       "  'synonyms': ['executioner'],\n",
       "  'qualities': ['final', 'morbid', 'dark', 'sombre'],\n",
       "  'nature': 'evil'},\n",
       " {'name': 'giver',\n",
       "  'synonyms': ['benefactor'],\n",
       "  'qualities': ['giving', 'generous', 'charitable', 'patronizing'],\n",
       "  'nature': 'good'},\n",
       " {'name': 'superhuman',\n",
       "  'synonyms': ['god', 'demigod'],\n",
       "  'qualities': ['incredible'],\n",
       "  'nature': 'good'},\n",
       " {'name': 'dreamer',\n",
       "  'synonyms': ['thinker'],\n",
       "  'qualities': ['wishful', 'ambitious'],\n",
       "  'nature': 'good'},\n",
       " {'name': 'gossip',\n",
       "  'synonyms': ['tattletale', 'whisperer', 'communicator'],\n",
       "  'qualities': ['talkative', 'expositional', 'unfettered', 'egocentric'],\n",
       "  'nature': 'evil'},\n",
       " {'name': 'guardian',\n",
       "  'synonyms': ['protector'],\n",
       "  'qualities': ['strong', 'protective'],\n",
       "  'nature': 'good'},\n",
       " {'name': 'hedonist',\n",
       "  'synonyms': ['pleasure-seeker'],\n",
       "  'qualities': ['egocentric', 'short-sighted'],\n",
       "  'nature': 'evil'},\n",
       " {'name': 'leader',\n",
       "  'synonyms': ['captain', 'general'],\n",
       "  'qualities': ['inspiring', 'compelling'],\n",
       "  'nature': 'good'},\n",
       " {'name': 'martyr',\n",
       "  'synonyms': [],\n",
       "  'qualities': ['self-sacrificing', 'noble'],\n",
       "  'nature': 'neutral'},\n",
       " {'name': 'everyman',\n",
       "  'synonyms': [],\n",
       "  'qualities': ['common', 'typical', 'average', 'normal'],\n",
       "  'nature': 'neutral'},\n",
       " {'name': 'poet',\n",
       "  'synonyms': ['bard', 'singer', 'philosopher'],\n",
       "  'qualities': ['thoughtful', 'lyrical', 'myterious', 'enlightening'],\n",
       "  'nature': 'good'},\n",
       " {'name': 'rebel',\n",
       "  'synonyms': ['rogue', 'outsider', 'fighter'],\n",
       "  'qualities': ['rebellious', 'questioning'],\n",
       "  'nature': 'neutral'},\n",
       " {'name': 'slave',\n",
       "  'synonyms': ['captive', 'laborer'],\n",
       "  'qualities': ['trapped', 'abused', 'struggling', 'angry'],\n",
       "  'nature': 'neutral'},\n",
       " {'name': 'samaritan',\n",
       "  'synonyms': ['helper'],\n",
       "  'qualities': ['selfless', 'generous', 'giving'],\n",
       "  'nature': 'good'},\n",
       " {'name': 'scholar',\n",
       "  'synonyms': ['didact', 'academic', 'learner'],\n",
       "  'qualities': ['thoughtful', 'curious', 'dedicated'],\n",
       "  'nature': 'neutral'},\n",
       " {'name': 'survivor',\n",
       "  'synonyms': ['escapee'],\n",
       "  'qualities': ['determined', 'lucky', 'hurt'],\n",
       "  'nature': 'good'},\n",
       " {'name': 'sycophant',\n",
       "  'synonyms': ['yes-man'],\n",
       "  'qualities': ['predictable', 'affirmative', 'dependable'],\n",
       "  'nature': 'evil'},\n",
       " {'name': 'temptress',\n",
       "  'synonyms': ['seductress'],\n",
       "  'qualities': ['alluring', 'deceitful'],\n",
       "  'nature': 'evil'},\n",
       " {'name': 'tyrant',\n",
       "  'synonyms': ['bully'],\n",
       "  'qualities': ['dominating', 'demanding', 'angry', 'egocentric', 'dedicated'],\n",
       "  'nature': 'evil'},\n",
       " {'name': 'victim',\n",
       "  'synonyms': ['sufferer', 'target'],\n",
       "  'qualities': ['hurt', 'abused', 'injured', 'fearful'],\n",
       "  'nature': 'neutral'},\n",
       " {'name': 'waif',\n",
       "  'synonyms': ['weakling', 'ragamuffin', 'urchin'],\n",
       "  'qualities': ['sickly', 'poor', 'neglected', 'abandoned'],\n",
       "  'nature': 'neutral'},\n",
       " {'name': 'minion',\n",
       "  'synonyms': ['lackey', 'worker', 'employee'],\n",
       "  'qualities': ['mindless', 'devoted', 'obedient'],\n",
       "  'nature': 'neutral'}]"
      ]
     },
     "execution_count": 104,
     "metadata": {},
     "output_type": "execute_result"
    }
   ],
   "source": [
    "list(archetypes.character['characters'])"
   ]
  },
  {
   "cell_type": "code",
   "execution_count": 65,
   "metadata": {},
   "outputs": [],
   "source": [
    "# if this were javascript, you could: divination.zodiac.western_zodiac[sign].gloss"
   ]
  },
  {
   "cell_type": "code",
   "execution_count": 67,
   "metadata": {},
   "outputs": [],
   "source": [
    "symbols = []\n",
    "for sign in list(divination.zodiac[\"western_zodiac\"].keys()):\n",
    "    symbol = divination.zodiac[\"western_zodiac\"][sign]['unicode_symbol']\n",
    "    symbols.append(symbol)"
   ]
  },
  {
   "cell_type": "code",
   "execution_count": 86,
   "metadata": {
    "scrolled": true
   },
   "outputs": [
    {
     "data": {
      "text/plain": [
       "['♈', '♉', '♊', '♋', '♌', '♍', '♎', '♏', '♐', '♑', '♒', '♓']"
      ]
     },
     "execution_count": 86,
     "metadata": {},
     "output_type": "execute_result"
    }
   ],
   "source": [
    "symbols"
   ]
  },
  {
   "cell_type": "code",
   "execution_count": 117,
   "metadata": {},
   "outputs": [],
   "source": [
    "archetype_names = []\n",
    "for hero in archetypes.character['characters']:\n",
    "#    print(hero)\n",
    "    archetype_names.append(hero['name'])\n",
    "#     archetype_name = archetypes.character['characters'][hero]['name']\n",
    "#     archetype_name.append(archetype_names)"
   ]
  },
  {
   "cell_type": "code",
   "execution_count": 118,
   "metadata": {},
   "outputs": [
    {
     "data": {
      "text/plain": [
       "['hero',\n",
       " 'anti-hero',\n",
       " 'analyst',\n",
       " 'bureaucrat',\n",
       " 'caretaker',\n",
       " 'catalyst',\n",
       " 'coward',\n",
       " 'curmudgeon',\n",
       " 'mentor',\n",
       " 'shaman',\n",
       " 'herald',\n",
       " 'trickster',\n",
       " 'fool',\n",
       " 'child',\n",
       " 'self',\n",
       " 'hermit',\n",
       " 'wanderer',\n",
       " 'hunter',\n",
       " 'judge',\n",
       " 'weaver',\n",
       " 'death',\n",
       " 'giver',\n",
       " 'superhuman',\n",
       " 'dreamer',\n",
       " 'gossip',\n",
       " 'guardian',\n",
       " 'hedonist',\n",
       " 'leader',\n",
       " 'martyr',\n",
       " 'everyman',\n",
       " 'poet',\n",
       " 'rebel',\n",
       " 'slave',\n",
       " 'samaritan',\n",
       " 'scholar',\n",
       " 'survivor',\n",
       " 'sycophant',\n",
       " 'temptress',\n",
       " 'tyrant',\n",
       " 'victim',\n",
       " 'waif',\n",
       " 'minion']"
      ]
     },
     "execution_count": 118,
     "metadata": {},
     "output_type": "execute_result"
    }
   ],
   "source": [
    "archetype_names"
   ]
  },
  {
   "cell_type": "code",
   "execution_count": 128,
   "metadata": {},
   "outputs": [],
   "source": [
    "archetype_qualities = []\n",
    "for hero in archetypes.character['characters']:\n",
    "#    print(hero)\n",
    "#    archetype_qualities.append(hero['qualities'])\n",
    "    archetype_qualities.append(', '.join(hero['qualities']))"
   ]
  },
  {
   "cell_type": "code",
   "execution_count": 129,
   "metadata": {},
   "outputs": [
    {
     "data": {
      "text/plain": [
       "['brave, willing, determined',\n",
       " 'unwilling, reluctant',\n",
       " 'rational, logical',\n",
       " 'obedient',\n",
       " 'caring, healing',\n",
       " 'dynamic, changeable, mercurial, unpredictable',\n",
       " 'weak, craven, fearful',\n",
       " 'opinionated, cranky, resolute',\n",
       " 'educating, guiding, helpful',\n",
       " 'mystical, mysterious',\n",
       " 'expositional, revealing',\n",
       " 'confusing, egocentric, misleading, clever, manipulative',\n",
       " 'thoughtless, silly, amusing',\n",
       " 'innocent, naive, simple, straightforward, credulous, endearing',\n",
       " 'reflecting',\n",
       " 'quiet, secretive',\n",
       " 'curious',\n",
       " 'curious, dedicated, driven',\n",
       " 'fair, unbiased, patient',\n",
       " 'thorough, crafty',\n",
       " 'final, morbid, dark, sombre',\n",
       " 'giving, generous, charitable, patronizing',\n",
       " 'incredible',\n",
       " 'wishful, ambitious',\n",
       " 'talkative, expositional, unfettered, egocentric',\n",
       " 'strong, protective',\n",
       " 'egocentric, short-sighted',\n",
       " 'inspiring, compelling',\n",
       " 'self-sacrificing, noble',\n",
       " 'common, typical, average, normal',\n",
       " 'thoughtful, lyrical, myterious, enlightening',\n",
       " 'rebellious, questioning',\n",
       " 'trapped, abused, struggling, angry',\n",
       " 'selfless, generous, giving',\n",
       " 'thoughtful, curious, dedicated',\n",
       " 'determined, lucky, hurt',\n",
       " 'predictable, affirmative, dependable',\n",
       " 'alluring, deceitful',\n",
       " 'dominating, demanding, angry, egocentric, dedicated',\n",
       " 'hurt, abused, injured, fearful',\n",
       " 'sickly, poor, neglected, abandoned',\n",
       " 'mindless, devoted, obedient']"
      ]
     },
     "execution_count": 129,
     "metadata": {},
     "output_type": "execute_result"
    }
   ],
   "source": [
    "archetype_qualities"
   ]
  },
  {
   "cell_type": "code",
   "execution_count": 69,
   "metadata": {},
   "outputs": [],
   "source": [
    "# shorter way of writing it\n",
    "symbols = []\n",
    "for sign, info in divination.zodiac[\"western_zodiac\"].items():\n",
    "    symbol = info['unicode_symbol']\n",
    "    symbols.append(symbol)"
   ]
  },
  {
   "cell_type": "code",
   "execution_count": 70,
   "metadata": {},
   "outputs": [
    {
     "data": {
      "text/plain": [
       "{'Aries': 'The Ram',\n",
       " 'Taurus': 'The Bull',\n",
       " 'Gemini': 'The Twins',\n",
       " 'Cancer': 'The Crab',\n",
       " 'Leo': 'The Lion',\n",
       " 'Virgo': 'The Maiden',\n",
       " 'Libra': 'The Scales',\n",
       " 'Scorpio': 'The Scorpion',\n",
       " 'Sagittarius': 'The Archer',\n",
       " 'Capricorn': 'The Mountain Sea-goat',\n",
       " 'Aquarius': 'The Water-bearer',\n",
       " 'Pisces': 'The Fish'}"
      ]
     },
     "execution_count": 70,
     "metadata": {},
     "output_type": "execute_result"
    }
   ],
   "source": [
    "sign_to_gloss_map = {}\n",
    "for sign, info in divination.zodiac[\"western_zodiac\"].items():\n",
    "    sign_to_gloss_map[sign] = info['gloss']\n",
    "sign_to_gloss_map"
   ]
  },
  {
   "cell_type": "code",
   "execution_count": 120,
   "metadata": {},
   "outputs": [
    {
     "data": {
      "text/plain": [
       "'The Maiden'"
      ]
     },
     "execution_count": 120,
     "metadata": {},
     "output_type": "execute_result"
    }
   ],
   "source": [
    "sign_to_gloss_map['Virgo']"
   ]
  },
  {
   "cell_type": "markdown",
   "metadata": {},
   "source": [
    "The following is an attempt to generate new zodiac signs using Tracery and PyCorpora"
   ]
  },
  {
   "cell_type": "code",
   "execution_count": 247,
   "metadata": {},
   "outputs": [],
   "source": [
    "from pycorpora import archetypes\n",
    "from pycorpora import divination\n",
    "from pycorpora import mythology\n",
    "from pycorpora import corporations\n",
    "from pycorpora import science\n",
    "from pycorpora import plants\n",
    "from pycorpora import objects\n",
    "\n",
    "archetype_qualities = []\n",
    "archetype_names = []\n",
    "monster_names = []\n",
    "creatures = []\n",
    "first_date = []\n",
    "last_date = []\n",
    "companies = []\n",
    "industries = []\n",
    "elements = []\n",
    "cannabis = []\n",
    "stuff = []\n",
    "\n",
    "for hero in archetypes.character['characters']:\n",
    "#    print(hero)\n",
    "    archetype_qualities.append(', '.join(hero['qualities']))\n",
    "    \n",
    "for hero in archetypes.character['characters']:\n",
    "#    print(hero)\n",
    "    archetype_names.append(hero['name'])\n",
    "    \n",
    "for monster in mythology.greek_monsters['greek_monsters']:\n",
    "#    print(monster)\n",
    "    monster_names.append(monster)    \n",
    "    \n",
    "for monster in mythology.monsters['names']:\n",
    "    #print(monster)\n",
    "    creatures.append(monster)  \n",
    "    \n",
    "for plant in plants.cannabis['cannabis']:\n",
    "    #print(plant)\n",
    "    cannabis.append(plant)    \n",
    "    \n",
    "for i in range(1,15):    \n",
    " #   print(i)\n",
    "    first_date.append(str(i))\n",
    "        \n",
    "for i in range(15,32):    \n",
    "#    print(i)\n",
    "    last_date.append(str(i))\n",
    "    \n",
    "for item in corporations.fortune500['companies']:\n",
    "    companies.append(item)\n",
    "\n",
    "for item in corporations.industries['industries']:\n",
    "    industries.append(item)  \n",
    "\n",
    "for item in objects.objects['objects']:\n",
    "    stuff.append(item)      \n",
    "    \n",
    "for i in range(118):\n",
    "    symbol = science.elements['elements'][i]['name']\n",
    "    elements.append(symbol)\n",
    "    "
   ]
  },
  {
   "cell_type": "code",
   "execution_count": 274,
   "metadata": {},
   "outputs": [
    {
     "name": "stdout",
     "output_type": "stream",
     "text": [
      "Astrology Generator\n",
      " --------- \n",
      "Condition: You were born on a Wednesday   \n",
      "Sign: Chimera the Child -- \n",
      "Symbol: Selkie -- \n",
      "Element: Fire -- \n",
      "Qualities: innocent, naive, simple, straightforward, credulous, endearing \n"
     ]
    }
   ],
   "source": [
    "rules = {\n",
    "    \"qualities\":archetype_qualities,\n",
    "    \"gloss\":archetype_names,\n",
    "    \"monsters\":monster_names,\n",
    "    \"character\":creatures,\n",
    "    \"stuff\": stuff,\n",
    "    \"weekday\":[\"Monday\", \"Tuesday\", \"Wednesday\", \"Thursday\", \"Friday\", \"Saturday\", \"Sunday\"],\n",
    "    \"month\":[\"January\",\"February\",\"March\",\"April\",\"May\",\"June\",\"July\",\"August\",\"September\",\"October\",\"November\",\"Decemeber\"],\n",
    "    \"first_date\": first_date,\n",
    "    \"last_date\": last_date,\n",
    "    \"companies\": companies,\n",
    "    \"industries\": industries,\n",
    "    \"elements\":elements,\n",
    "    \"cannabis\":cannabis,\n",
    "    \"old_elements\":[\"Fire\", \"Earth\", \"Air\", \"Water\", \"Metal\", \"Aether\"],\n",
    "    \"condition\":[\"You were born on a #weekday#\", \"You were born between #month# #first_date# - #last_date#\"],\n",
    "    \n",
    "    \"origin\":\"\"\"Astrology Generator\\n --------- \\nCondition: #condition#   \\nSign: #monsters# the #gloss.capitalize# -- \\nSymbol: #character.capitalize# -- \\nElement: #old_elements# -- \\nQualities: #qualities# \"\"\"\n",
    "}\n",
    "\n",
    "grammar = tracery.Grammar(rules)\n",
    "grammar.add_modifiers(base_english)\n",
    "print(grammar.flatten(\"#origin#\"))"
   ]
  },
  {
   "cell_type": "code",
   "execution_count": 284,
   "metadata": {},
   "outputs": [
    {
     "name": "stdout",
     "output_type": "stream",
     "text": [
      "{Vaguely Anti-Corporatists/Millenial Astrology} \n",
      " --------- \n",
      "Condition: You were born between July 5 - 19   \n",
      "Sign: Telekhines the Hedonist -- \n",
      "Symbol: A Canvas -- \n",
      "Qualities: caring, healing -- \n",
      "Element: Zinc -- \n",
      "Power Cannabis Strain: Yumboldt -- \n",
      "Quest: Use Farming to obliterate US Foods, Inc.\n"
     ]
    }
   ],
   "source": [
    "rules = {\n",
    "    \"qualities\":archetype_qualities,\n",
    "    \"gloss\":archetype_names,\n",
    "    \"monsters\":monster_names,\n",
    "    \"character\":creatures,\n",
    "    \"stuff\": stuff,\n",
    "    \"weekday\":[\"Monday\", \"Tuesday\", \"Wednesday\", \"Thursday\", \"Friday\", \"Saturday\", \"Sunday\"],\n",
    "    \"month\":[\"January\",\"February\",\"March\",\"April\",\"May\",\"June\",\"July\",\"August\",\"September\",\"October\",\"November\",\"Decemeber\"],\n",
    "    \"first_date\": first_date,\n",
    "    \"last_date\": last_date,\n",
    "    \"companies\": companies,\n",
    "    \"industries\": industries,\n",
    "    \"elements\":elements,\n",
    "    \"cannabis\":cannabis,\n",
    "    \"destructive\":[\"destroy\",\"dismantle\",\"smash\",\"ruin\", \"sabotage\",\"obliterate\"],\n",
    "    \"condition\":[\"You were born on a #weekday#\", \"You were born between #month# #first_date# - #last_date#\"],\n",
    "    \n",
    "    \"origin\":\"{Vaguely Anti-Corporatists/Millenial Astrology} \\n --------- \\nCondition: #condition#   \\nSign: #monsters# the #gloss.capitalize# -- \\nSymbol: #stuff.capitalize.a.capitalize# -- \\nQualities: #qualities# -- \\nElement: #elements# -- \\nPower Cannabis Strain: #cannabis# -- \\nQuest: Use #industries# to #destructive# #companies#\"\n",
    "}\n",
    "\n",
    "grammar = tracery.Grammar(rules)\n",
    "grammar.add_modifiers(base_english)\n",
    "print(grammar.flatten(\"#origin#\"))"
   ]
  },
  {
   "cell_type": "code",
   "execution_count": null,
   "metadata": {},
   "outputs": [],
   "source": []
  }
 ],
 "metadata": {
  "kernelspec": {
   "display_name": "Python 3",
   "language": "python",
   "name": "python3"
  },
  "language_info": {
   "codemirror_mode": {
    "name": "ipython",
    "version": 3
   },
   "file_extension": ".py",
   "mimetype": "text/x-python",
   "name": "python",
   "nbconvert_exporter": "python",
   "pygments_lexer": "ipython3",
   "version": "3.6.5"
  }
 },
 "nbformat": 4,
 "nbformat_minor": 2
}
