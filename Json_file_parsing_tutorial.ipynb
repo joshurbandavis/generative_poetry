{
 "cells": [
  {
   "cell_type": "markdown",
   "metadata": {},
   "source": [
    "# Parsing JSON files for Tracery \n",
    "JSON = JavaScript Object Notation\\n\n",
    "Link: https://github.com/dariusk/corpora/tree/master/data \\n\n",
    "Download json file and add to same directory as parser notebook\\n"
   ]
  },
  {
   "cell_type": "code",
   "execution_count": 3,
   "metadata": {},
   "outputs": [],
   "source": [
    "import json"
   ]
  },
  {
   "cell_type": "code",
   "execution_count": 4,
   "metadata": {},
   "outputs": [],
   "source": [
    "data = json.load(open(\"isms.json\"))"
   ]
  },
  {
   "cell_type": "code",
   "execution_count": 7,
   "metadata": {},
   "outputs": [],
   "source": [
    "movements = data[\"isms\"]"
   ]
  },
  {
   "cell_type": "code",
   "execution_count": 9,
   "metadata": {},
   "outputs": [],
   "source": [
    "import tracery\n",
    "from tracery.modifiers import base_english"
   ]
  },
  {
   "cell_type": "code",
   "execution_count": 13,
   "metadata": {},
   "outputs": [
    {
     "name": "stdout",
     "output_type": "stream",
     "text": [
      "I'm a a Nonconformism artist, not a an Impressionism philosopher!\n"
     ]
    }
   ],
   "source": [
    "rules = {\n",
    "    \"origin\": \"I'm a #movement.capitalize.a# artist, not a #movement.capitalize.a# philosopher!\",\n",
    "    \"movement\": movements,\n",
    "}\n",
    "\n",
    "grammar = tracery.Grammar(rules)\n",
    "grammar.add_modifiers(base_english)\n",
    "print(grammar.flatten(\"#origin#\"))"
   ]
  },
  {
   "cell_type": "markdown",
   "metadata": {},
   "source": [
    "# More sophisticated JSON structures\n",
    "This section will create a new tarot card inventor"
   ]
  },
  {
   "cell_type": "code",
   "execution_count": 19,
   "metadata": {},
   "outputs": [],
   "source": [
    "tarot_data = json.load(open(\"tarot_interpretations.json\"))"
   ]
  },
  {
   "cell_type": "code",
   "execution_count": 24,
   "metadata": {},
   "outputs": [],
   "source": [
    "light = []\n",
    "shadow = []\n",
    "\n",
    "for card in tarot_data['tarot_interpretations']:\n",
    "  #  print(card['meanings']['light'])\n",
    "    light.extend(card['meanings']['light'])\n",
    "   # print(card['meanings']['shadow'])\n",
    "    shadow.extend(card['meanings']['shadow'])"
   ]
  },
  {
   "cell_type": "code",
   "execution_count": 26,
   "metadata": {},
   "outputs": [
    {
     "data": {
      "text/plain": [
       "484"
      ]
     },
     "execution_count": 26,
     "metadata": {},
     "output_type": "execute_result"
    }
   ],
   "source": [
    "len(light)"
   ]
  },
  {
   "cell_type": "code",
   "execution_count": 28,
   "metadata": {},
   "outputs": [
    {
     "data": {
      "text/plain": [
       "435"
      ]
     },
     "execution_count": 28,
     "metadata": {},
     "output_type": "execute_result"
    }
   ],
   "source": [
    "len(shadow)"
   ]
  },
  {
   "cell_type": "code",
   "execution_count": 29,
   "metadata": {},
   "outputs": [
    {
     "data": {
      "text/plain": [
       "'Realizing how lucky or how blessed you are'"
      ]
     },
     "execution_count": 29,
     "metadata": {},
     "output_type": "execute_result"
    }
   ],
   "source": [
    "import random\n",
    "random.choice(light)"
   ]
  },
  {
   "cell_type": "code",
   "execution_count": 33,
   "metadata": {},
   "outputs": [
    {
     "name": "stdout",
     "output_type": "stream",
     "text": [
      "puppy of spades\n",
      "Light: Getting things done\n",
      "Shadow:Refusing to invest the time and effort needed to master your craft\n"
     ]
    }
   ],
   "source": [
    "rules = {\n",
    "    \"light\": light,\n",
    "    \"Shadow\": shadow,\n",
    "    \"rank\": [\"ace\", \"two\", \"three\", \"pi\", \"puppy\", \"A.L.F.\"],\n",
    "    \"suit\": [\"spades\", \"A.L.F.\", \"cheese\", \"cups\"],\n",
    "    \"origin\": \"#rank# of #suit#\\nLight: #light#\\nShadow:#Shadow#\"\n",
    "}\n",
    "\n",
    "grammar = tracery.Grammar(rules)\n",
    "grammar.add_modifiers(base_english)\n",
    "print(grammar.flatten(\"#origin#\"))"
   ]
  },
  {
   "cell_type": "code",
   "execution_count": null,
   "metadata": {},
   "outputs": [],
   "source": []
  }
 ],
 "metadata": {
  "kernelspec": {
   "display_name": "Python 3",
   "language": "python",
   "name": "python3"
  },
  "language_info": {
   "codemirror_mode": {
    "name": "ipython",
    "version": 3
   },
   "file_extension": ".py",
   "mimetype": "text/x-python",
   "name": "python",
   "nbconvert_exporter": "python",
   "pygments_lexer": "ipython3",
   "version": "3.6.5"
  }
 },
 "nbformat": 4,
 "nbformat_minor": 2
}
